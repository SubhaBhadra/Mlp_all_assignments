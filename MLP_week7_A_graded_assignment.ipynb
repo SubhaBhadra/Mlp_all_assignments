{
  "nbformat": 4,
  "nbformat_minor": 0,
  "metadata": {
    "colab": {
      "provenance": []
    },
    "kernelspec": {
      "name": "python3",
      "display_name": "Python 3"
    },
    "language_info": {
      "name": "python"
    }
  },
  "cells": [
    {
      "cell_type": "code",
      "execution_count": 93,
      "metadata": {
        "id": "BPizIM-BE4H8"
      },
      "outputs": [],
      "source": [
        "import sklearn\n",
        "import pandas as pd\n",
        "import numpy as np"
      ]
    },
    {
      "cell_type": "code",
      "source": [
        "data=pd.read_csv('/content/data_for_large_scale.csv')\n",
        "data"
      ],
      "metadata": {
        "colab": {
          "base_uri": "https://localhost:8080/",
          "height": 423
        },
        "id": "y0aJoJ9ZFJmG",
        "outputId": "5bfade2a-846a-4ba7-cfc1-cf233da65e93"
      },
      "execution_count": 94,
      "outputs": [
        {
          "output_type": "execute_result",
          "data": {
            "text/plain": [
              "       Feature-1  Feature-2  Feature-3  Feature-4  Feature-5  Feature-6  \\\n",
              "0         -1.580     1.0500     1.0600     -0.440    0.45100    -0.0348   \n",
              "1         -0.832    -0.8660    -1.3400      0.138    1.18000     0.7330   \n",
              "2         -0.237     2.0900    -3.9300      0.296    0.35200    -0.5010   \n",
              "3         -1.170    -1.1300    -1.0900      1.120    0.31200     0.1830   \n",
              "4          0.260    -0.0273     0.9250     -1.150   -1.39000     0.0251   \n",
              "...          ...        ...        ...        ...        ...        ...   \n",
              "89995     -0.268    -0.3200    -0.0146     -0.251    1.76000     0.8590   \n",
              "89996     -0.774     0.4960     1.9400      0.673    0.29500    -0.0137   \n",
              "89997      0.509    -0.3220     0.6810     -0.276   -0.00553    -1.1000   \n",
              "89998      0.360     1.2500     0.6510     -0.871    0.37900     0.7690   \n",
              "89999     -0.860    -0.6010     0.7390      0.190   -0.33100    -1.2700   \n",
              "\n",
              "       Feature-7  Feature-8  Feature-9  Feature-10  Target  \n",
              "0          0.643     0.2650      0.268     -0.8510   84.70  \n",
              "1         -1.410     0.1350     -0.088     -1.5500 -211.00  \n",
              "2          0.961    -0.0287      1.820      0.9380  -96.90  \n",
              "3          0.448    -0.8190     -1.010     -1.0800 -152.00  \n",
              "4          0.627     0.0950     -0.280     -0.8480  -57.70  \n",
              "...          ...        ...        ...         ...     ...  \n",
              "89995     -1.090    -1.3800      1.760     -1.0900   -4.15  \n",
              "89996     -0.966    -0.6270     -0.113      0.0767   63.50  \n",
              "89997      0.453     0.7270     -1.940     -2.0100  -80.20  \n",
              "89998      1.330    -0.3670     -1.280     -1.1000  158.00  \n",
              "89999     -2.610    -0.4830     -1.380      1.1100 -369.00  \n",
              "\n",
              "[90000 rows x 11 columns]"
            ],
            "text/html": [
              "\n",
              "\n",
              "  <div id=\"df-7d4f1aed-7f6d-4bcf-9b19-a80a6c165db7\">\n",
              "    <div class=\"colab-df-container\">\n",
              "      <div>\n",
              "<style scoped>\n",
              "    .dataframe tbody tr th:only-of-type {\n",
              "        vertical-align: middle;\n",
              "    }\n",
              "\n",
              "    .dataframe tbody tr th {\n",
              "        vertical-align: top;\n",
              "    }\n",
              "\n",
              "    .dataframe thead th {\n",
              "        text-align: right;\n",
              "    }\n",
              "</style>\n",
              "<table border=\"1\" class=\"dataframe\">\n",
              "  <thead>\n",
              "    <tr style=\"text-align: right;\">\n",
              "      <th></th>\n",
              "      <th>Feature-1</th>\n",
              "      <th>Feature-2</th>\n",
              "      <th>Feature-3</th>\n",
              "      <th>Feature-4</th>\n",
              "      <th>Feature-5</th>\n",
              "      <th>Feature-6</th>\n",
              "      <th>Feature-7</th>\n",
              "      <th>Feature-8</th>\n",
              "      <th>Feature-9</th>\n",
              "      <th>Feature-10</th>\n",
              "      <th>Target</th>\n",
              "    </tr>\n",
              "  </thead>\n",
              "  <tbody>\n",
              "    <tr>\n",
              "      <th>0</th>\n",
              "      <td>-1.580</td>\n",
              "      <td>1.0500</td>\n",
              "      <td>1.0600</td>\n",
              "      <td>-0.440</td>\n",
              "      <td>0.45100</td>\n",
              "      <td>-0.0348</td>\n",
              "      <td>0.643</td>\n",
              "      <td>0.2650</td>\n",
              "      <td>0.268</td>\n",
              "      <td>-0.8510</td>\n",
              "      <td>84.70</td>\n",
              "    </tr>\n",
              "    <tr>\n",
              "      <th>1</th>\n",
              "      <td>-0.832</td>\n",
              "      <td>-0.8660</td>\n",
              "      <td>-1.3400</td>\n",
              "      <td>0.138</td>\n",
              "      <td>1.18000</td>\n",
              "      <td>0.7330</td>\n",
              "      <td>-1.410</td>\n",
              "      <td>0.1350</td>\n",
              "      <td>-0.088</td>\n",
              "      <td>-1.5500</td>\n",
              "      <td>-211.00</td>\n",
              "    </tr>\n",
              "    <tr>\n",
              "      <th>2</th>\n",
              "      <td>-0.237</td>\n",
              "      <td>2.0900</td>\n",
              "      <td>-3.9300</td>\n",
              "      <td>0.296</td>\n",
              "      <td>0.35200</td>\n",
              "      <td>-0.5010</td>\n",
              "      <td>0.961</td>\n",
              "      <td>-0.0287</td>\n",
              "      <td>1.820</td>\n",
              "      <td>0.9380</td>\n",
              "      <td>-96.90</td>\n",
              "    </tr>\n",
              "    <tr>\n",
              "      <th>3</th>\n",
              "      <td>-1.170</td>\n",
              "      <td>-1.1300</td>\n",
              "      <td>-1.0900</td>\n",
              "      <td>1.120</td>\n",
              "      <td>0.31200</td>\n",
              "      <td>0.1830</td>\n",
              "      <td>0.448</td>\n",
              "      <td>-0.8190</td>\n",
              "      <td>-1.010</td>\n",
              "      <td>-1.0800</td>\n",
              "      <td>-152.00</td>\n",
              "    </tr>\n",
              "    <tr>\n",
              "      <th>4</th>\n",
              "      <td>0.260</td>\n",
              "      <td>-0.0273</td>\n",
              "      <td>0.9250</td>\n",
              "      <td>-1.150</td>\n",
              "      <td>-1.39000</td>\n",
              "      <td>0.0251</td>\n",
              "      <td>0.627</td>\n",
              "      <td>0.0950</td>\n",
              "      <td>-0.280</td>\n",
              "      <td>-0.8480</td>\n",
              "      <td>-57.70</td>\n",
              "    </tr>\n",
              "    <tr>\n",
              "      <th>...</th>\n",
              "      <td>...</td>\n",
              "      <td>...</td>\n",
              "      <td>...</td>\n",
              "      <td>...</td>\n",
              "      <td>...</td>\n",
              "      <td>...</td>\n",
              "      <td>...</td>\n",
              "      <td>...</td>\n",
              "      <td>...</td>\n",
              "      <td>...</td>\n",
              "      <td>...</td>\n",
              "    </tr>\n",
              "    <tr>\n",
              "      <th>89995</th>\n",
              "      <td>-0.268</td>\n",
              "      <td>-0.3200</td>\n",
              "      <td>-0.0146</td>\n",
              "      <td>-0.251</td>\n",
              "      <td>1.76000</td>\n",
              "      <td>0.8590</td>\n",
              "      <td>-1.090</td>\n",
              "      <td>-1.3800</td>\n",
              "      <td>1.760</td>\n",
              "      <td>-1.0900</td>\n",
              "      <td>-4.15</td>\n",
              "    </tr>\n",
              "    <tr>\n",
              "      <th>89996</th>\n",
              "      <td>-0.774</td>\n",
              "      <td>0.4960</td>\n",
              "      <td>1.9400</td>\n",
              "      <td>0.673</td>\n",
              "      <td>0.29500</td>\n",
              "      <td>-0.0137</td>\n",
              "      <td>-0.966</td>\n",
              "      <td>-0.6270</td>\n",
              "      <td>-0.113</td>\n",
              "      <td>0.0767</td>\n",
              "      <td>63.50</td>\n",
              "    </tr>\n",
              "    <tr>\n",
              "      <th>89997</th>\n",
              "      <td>0.509</td>\n",
              "      <td>-0.3220</td>\n",
              "      <td>0.6810</td>\n",
              "      <td>-0.276</td>\n",
              "      <td>-0.00553</td>\n",
              "      <td>-1.1000</td>\n",
              "      <td>0.453</td>\n",
              "      <td>0.7270</td>\n",
              "      <td>-1.940</td>\n",
              "      <td>-2.0100</td>\n",
              "      <td>-80.20</td>\n",
              "    </tr>\n",
              "    <tr>\n",
              "      <th>89998</th>\n",
              "      <td>0.360</td>\n",
              "      <td>1.2500</td>\n",
              "      <td>0.6510</td>\n",
              "      <td>-0.871</td>\n",
              "      <td>0.37900</td>\n",
              "      <td>0.7690</td>\n",
              "      <td>1.330</td>\n",
              "      <td>-0.3670</td>\n",
              "      <td>-1.280</td>\n",
              "      <td>-1.1000</td>\n",
              "      <td>158.00</td>\n",
              "    </tr>\n",
              "    <tr>\n",
              "      <th>89999</th>\n",
              "      <td>-0.860</td>\n",
              "      <td>-0.6010</td>\n",
              "      <td>0.7390</td>\n",
              "      <td>0.190</td>\n",
              "      <td>-0.33100</td>\n",
              "      <td>-1.2700</td>\n",
              "      <td>-2.610</td>\n",
              "      <td>-0.4830</td>\n",
              "      <td>-1.380</td>\n",
              "      <td>1.1100</td>\n",
              "      <td>-369.00</td>\n",
              "    </tr>\n",
              "  </tbody>\n",
              "</table>\n",
              "<p>90000 rows × 11 columns</p>\n",
              "</div>\n",
              "      <button class=\"colab-df-convert\" onclick=\"convertToInteractive('df-7d4f1aed-7f6d-4bcf-9b19-a80a6c165db7')\"\n",
              "              title=\"Convert this dataframe to an interactive table.\"\n",
              "              style=\"display:none;\">\n",
              "\n",
              "  <svg xmlns=\"http://www.w3.org/2000/svg\" height=\"24px\"viewBox=\"0 0 24 24\"\n",
              "       width=\"24px\">\n",
              "    <path d=\"M0 0h24v24H0V0z\" fill=\"none\"/>\n",
              "    <path d=\"M18.56 5.44l.94 2.06.94-2.06 2.06-.94-2.06-.94-.94-2.06-.94 2.06-2.06.94zm-11 1L8.5 8.5l.94-2.06 2.06-.94-2.06-.94L8.5 2.5l-.94 2.06-2.06.94zm10 10l.94 2.06.94-2.06 2.06-.94-2.06-.94-.94-2.06-.94 2.06-2.06.94z\"/><path d=\"M17.41 7.96l-1.37-1.37c-.4-.4-.92-.59-1.43-.59-.52 0-1.04.2-1.43.59L10.3 9.45l-7.72 7.72c-.78.78-.78 2.05 0 2.83L4 21.41c.39.39.9.59 1.41.59.51 0 1.02-.2 1.41-.59l7.78-7.78 2.81-2.81c.8-.78.8-2.07 0-2.86zM5.41 20L4 18.59l7.72-7.72 1.47 1.35L5.41 20z\"/>\n",
              "  </svg>\n",
              "      </button>\n",
              "\n",
              "\n",
              "\n",
              "    <div id=\"df-b3c62dd5-78a5-49df-b2fe-4f0eb200f692\">\n",
              "      <button class=\"colab-df-quickchart\" onclick=\"quickchart('df-b3c62dd5-78a5-49df-b2fe-4f0eb200f692')\"\n",
              "              title=\"Suggest charts.\"\n",
              "              style=\"display:none;\">\n",
              "\n",
              "<svg xmlns=\"http://www.w3.org/2000/svg\" height=\"24px\"viewBox=\"0 0 24 24\"\n",
              "     width=\"24px\">\n",
              "    <g>\n",
              "        <path d=\"M19 3H5c-1.1 0-2 .9-2 2v14c0 1.1.9 2 2 2h14c1.1 0 2-.9 2-2V5c0-1.1-.9-2-2-2zM9 17H7v-7h2v7zm4 0h-2V7h2v10zm4 0h-2v-4h2v4z\"/>\n",
              "    </g>\n",
              "</svg>\n",
              "      </button>\n",
              "    </div>\n",
              "\n",
              "<style>\n",
              "  .colab-df-quickchart {\n",
              "    background-color: #E8F0FE;\n",
              "    border: none;\n",
              "    border-radius: 50%;\n",
              "    cursor: pointer;\n",
              "    display: none;\n",
              "    fill: #1967D2;\n",
              "    height: 32px;\n",
              "    padding: 0 0 0 0;\n",
              "    width: 32px;\n",
              "  }\n",
              "\n",
              "  .colab-df-quickchart:hover {\n",
              "    background-color: #E2EBFA;\n",
              "    box-shadow: 0px 1px 2px rgba(60, 64, 67, 0.3), 0px 1px 3px 1px rgba(60, 64, 67, 0.15);\n",
              "    fill: #174EA6;\n",
              "  }\n",
              "\n",
              "  [theme=dark] .colab-df-quickchart {\n",
              "    background-color: #3B4455;\n",
              "    fill: #D2E3FC;\n",
              "  }\n",
              "\n",
              "  [theme=dark] .colab-df-quickchart:hover {\n",
              "    background-color: #434B5C;\n",
              "    box-shadow: 0px 1px 3px 1px rgba(0, 0, 0, 0.15);\n",
              "    filter: drop-shadow(0px 1px 2px rgba(0, 0, 0, 0.3));\n",
              "    fill: #FFFFFF;\n",
              "  }\n",
              "</style>\n",
              "\n",
              "    <script>\n",
              "      async function quickchart(key) {\n",
              "        const containerElement = document.querySelector('#' + key);\n",
              "        const charts = await google.colab.kernel.invokeFunction(\n",
              "            'suggestCharts', [key], {});\n",
              "      }\n",
              "    </script>\n",
              "\n",
              "      <script>\n",
              "\n",
              "function displayQuickchartButton(domScope) {\n",
              "  let quickchartButtonEl =\n",
              "    domScope.querySelector('#df-b3c62dd5-78a5-49df-b2fe-4f0eb200f692 button.colab-df-quickchart');\n",
              "  quickchartButtonEl.style.display =\n",
              "    google.colab.kernel.accessAllowed ? 'block' : 'none';\n",
              "}\n",
              "\n",
              "        displayQuickchartButton(document);\n",
              "      </script>\n",
              "      <style>\n",
              "    .colab-df-container {\n",
              "      display:flex;\n",
              "      flex-wrap:wrap;\n",
              "      gap: 12px;\n",
              "    }\n",
              "\n",
              "    .colab-df-convert {\n",
              "      background-color: #E8F0FE;\n",
              "      border: none;\n",
              "      border-radius: 50%;\n",
              "      cursor: pointer;\n",
              "      display: none;\n",
              "      fill: #1967D2;\n",
              "      height: 32px;\n",
              "      padding: 0 0 0 0;\n",
              "      width: 32px;\n",
              "    }\n",
              "\n",
              "    .colab-df-convert:hover {\n",
              "      background-color: #E2EBFA;\n",
              "      box-shadow: 0px 1px 2px rgba(60, 64, 67, 0.3), 0px 1px 3px 1px rgba(60, 64, 67, 0.15);\n",
              "      fill: #174EA6;\n",
              "    }\n",
              "\n",
              "    [theme=dark] .colab-df-convert {\n",
              "      background-color: #3B4455;\n",
              "      fill: #D2E3FC;\n",
              "    }\n",
              "\n",
              "    [theme=dark] .colab-df-convert:hover {\n",
              "      background-color: #434B5C;\n",
              "      box-shadow: 0px 1px 3px 1px rgba(0, 0, 0, 0.15);\n",
              "      filter: drop-shadow(0px 1px 2px rgba(0, 0, 0, 0.3));\n",
              "      fill: #FFFFFF;\n",
              "    }\n",
              "  </style>\n",
              "\n",
              "      <script>\n",
              "        const buttonEl =\n",
              "          document.querySelector('#df-7d4f1aed-7f6d-4bcf-9b19-a80a6c165db7 button.colab-df-convert');\n",
              "        buttonEl.style.display =\n",
              "          google.colab.kernel.accessAllowed ? 'block' : 'none';\n",
              "\n",
              "        async function convertToInteractive(key) {\n",
              "          const element = document.querySelector('#df-7d4f1aed-7f6d-4bcf-9b19-a80a6c165db7');\n",
              "          const dataTable =\n",
              "            await google.colab.kernel.invokeFunction('convertToInteractive',\n",
              "                                                     [key], {});\n",
              "          if (!dataTable) return;\n",
              "\n",
              "          const docLinkHtml = 'Like what you see? Visit the ' +\n",
              "            '<a target=\"_blank\" href=https://colab.research.google.com/notebooks/data_table.ipynb>data table notebook</a>'\n",
              "            + ' to learn more about interactive tables.';\n",
              "          element.innerHTML = '';\n",
              "          dataTable['output_type'] = 'display_data';\n",
              "          await google.colab.output.renderOutput(dataTable, element);\n",
              "          const docLink = document.createElement('div');\n",
              "          docLink.innerHTML = docLinkHtml;\n",
              "          element.appendChild(docLink);\n",
              "        }\n",
              "      </script>\n",
              "    </div>\n",
              "  </div>\n"
            ]
          },
          "metadata": {},
          "execution_count": 94
        }
      ]
    },
    {
      "cell_type": "code",
      "source": [
        "x=data.drop('Target',axis=1)\n",
        "y=data['Target']"
      ],
      "metadata": {
        "id": "pf6RJiANFRWJ"
      },
      "execution_count": 95,
      "outputs": []
    },
    {
      "cell_type": "code",
      "source": [
        "x.shape,y.shape"
      ],
      "metadata": {
        "colab": {
          "base_uri": "https://localhost:8080/"
        },
        "id": "oFDxwnUUFx7k",
        "outputId": "8ffe15b1-8438-4611-c512-8495384b7bfe"
      },
      "execution_count": 96,
      "outputs": [
        {
          "output_type": "execute_result",
          "data": {
            "text/plain": [
              "((90000, 10), (90000,))"
            ]
          },
          "metadata": {},
          "execution_count": 96
        }
      ]
    },
    {
      "cell_type": "code",
      "source": [
        "x_array=x.to_numpy()\n",
        "y_array=y.to_numpy()"
      ],
      "metadata": {
        "id": "WurxeJg9GDOj"
      },
      "execution_count": 97,
      "outputs": []
    },
    {
      "cell_type": "code",
      "source": [
        "from sklearn.model_selection import train_test_split\n",
        "x_train,x_test,y_train,y_test=train_test_split(x_array,y_array,test_size=0.3,random_state=10)"
      ],
      "metadata": {
        "id": "GXO3zsl-GSsx"
      },
      "execution_count": 98,
      "outputs": []
    },
    {
      "cell_type": "code",
      "source": [
        "x_train.shape"
      ],
      "metadata": {
        "colab": {
          "base_uri": "https://localhost:8080/"
        },
        "id": "nn8n8I4iGb34",
        "outputId": "01484bd2-2190-4e8f-e909-0c1d71e8685a"
      },
      "execution_count": 99,
      "outputs": [
        {
          "output_type": "execute_result",
          "data": {
            "text/plain": [
              "(63000, 10)"
            ]
          },
          "metadata": {},
          "execution_count": 99
        }
      ]
    },
    {
      "cell_type": "code",
      "source": [
        "x_train_reshaped=x_train.reshape(-1,90,10)\n",
        "x_test_reshaped=x_test.reshape(-1,90,10)"
      ],
      "metadata": {
        "id": "5oGutcPWG71J"
      },
      "execution_count": 100,
      "outputs": []
    },
    {
      "cell_type": "code",
      "source": [
        "y_train_reshaped=y_train.reshape(-1,90)\n",
        "y_test_reshaped=y_test.reshape(-1,90)"
      ],
      "metadata": {
        "id": "CZN1o9nMH4dT"
      },
      "execution_count": 101,
      "outputs": []
    },
    {
      "cell_type": "code",
      "source": [
        "x_test_reshaped.shape"
      ],
      "metadata": {
        "colab": {
          "base_uri": "https://localhost:8080/"
        },
        "id": "H16P4YszH-qm",
        "outputId": "39b4d35b-f146-492a-ee91-014e1626d1dd"
      },
      "execution_count": 102,
      "outputs": [
        {
          "output_type": "execute_result",
          "data": {
            "text/plain": [
              "(300, 90, 10)"
            ]
          },
          "metadata": {},
          "execution_count": 102
        }
      ]
    },
    {
      "cell_type": "code",
      "source": [
        "from sklearn.linear_model import SGDRegressor\n",
        "sgd=SGDRegressor(random_state=10)"
      ],
      "metadata": {
        "id": "-9azzvNHIAl0"
      },
      "execution_count": 103,
      "outputs": []
    },
    {
      "cell_type": "code",
      "source": [
        "for i in range(x_train_reshaped.shape[0]):\n",
        "  x_batch=x_train_reshaped[i]\n",
        "  y_batch=y_train_reshaped[i]\n",
        "  sgd.partial_fit(x_batch,y_batch)"
      ],
      "metadata": {
        "id": "exJdLPLiIQt2"
      },
      "execution_count": 104,
      "outputs": []
    },
    {
      "cell_type": "code",
      "source": [
        "sgd.coef_"
      ],
      "metadata": {
        "colab": {
          "base_uri": "https://localhost:8080/"
        },
        "id": "_m_PpBGwI5YE",
        "outputId": "b67d622a-a7a1-4b9f-8ffa-a14a06123a17"
      },
      "execution_count": 105,
      "outputs": [
        {
          "output_type": "execute_result",
          "data": {
            "text/plain": [
              "array([51.3212522 , 22.26535893, 81.23762868, 53.19615839, 76.46565732,\n",
              "       71.47204651, 93.45092409, 51.92198178, 30.03910055, 40.95656774])"
            ]
          },
          "metadata": {},
          "execution_count": 105
        }
      ]
    },
    {
      "cell_type": "code",
      "source": [
        "sgd.intercept_"
      ],
      "metadata": {
        "colab": {
          "base_uri": "https://localhost:8080/"
        },
        "id": "3KbZkv3LI9gA",
        "outputId": "aef8fd41-8dd4-4e19-feb2-f7ed779954fa"
      },
      "execution_count": 106,
      "outputs": [
        {
          "output_type": "execute_result",
          "data": {
            "text/plain": [
              "array([-0.0054532])"
            ]
          },
          "metadata": {},
          "execution_count": 106
        }
      ]
    },
    {
      "cell_type": "code",
      "source": [
        "from sklearn.metrics import r2_score\n",
        "y_pred_list=[]"
      ],
      "metadata": {
        "id": "uay1tZ10KDLE"
      },
      "execution_count": 107,
      "outputs": []
    },
    {
      "cell_type": "code",
      "source": [
        "for i in range(x_test_reshaped.shape[0]):\n",
        "  x_batch_test=x_test_reshaped[i]\n",
        "  y_pred=sgd.predict(x_batch_test)\n",
        "  y_pred_list.append(y_pred)\n"
      ],
      "metadata": {
        "id": "QB9qFULUMvYf"
      },
      "execution_count": 108,
      "outputs": []
    },
    {
      "cell_type": "code",
      "source": [
        "len(y_pred_list)"
      ],
      "metadata": {
        "colab": {
          "base_uri": "https://localhost:8080/"
        },
        "id": "yXZOzofWP_b4",
        "outputId": "ce67335a-0c51-4fc6-98db-c0ce494b69ff"
      },
      "execution_count": 109,
      "outputs": [
        {
          "output_type": "execute_result",
          "data": {
            "text/plain": [
              "300"
            ]
          },
          "metadata": {},
          "execution_count": 109
        }
      ]
    },
    {
      "cell_type": "code",
      "source": [
        "r2_score(y_test_reshaped,y_pred_list)"
      ],
      "metadata": {
        "colab": {
          "base_uri": "https://localhost:8080/"
        },
        "id": "KdkLoH9BQhmG",
        "outputId": "a899be08-94de-42d9-c551-e4bb7cd69b45"
      },
      "execution_count": 110,
      "outputs": [
        {
          "output_type": "execute_result",
          "data": {
            "text/plain": [
              "0.9999919041690718"
            ]
          },
          "metadata": {},
          "execution_count": 110
        }
      ]
    },
    {
      "cell_type": "code",
      "source": [
        "from sklearn.linear_model import SGDRegressor\n",
        "sgd=SGDRegressor(random_state=10)"
      ],
      "metadata": {
        "id": "QkEc_v06Qzbo"
      },
      "execution_count": 111,
      "outputs": []
    },
    {
      "cell_type": "code",
      "source": [
        "for i in range(5):\n",
        "  x_batch=x_train_reshaped[i]\n",
        "  y_batch=y_train_reshaped[i]\n",
        "  sgd.partial_fit(x_batch,y_batch)\n",
        "  print(sgd.coef_)"
      ],
      "metadata": {
        "colab": {
          "base_uri": "https://localhost:8080/"
        },
        "id": "5VF2OVxwQ3JF",
        "outputId": "4b7f900f-1b7a-4e34-e58f-6ddf360ddf19"
      },
      "execution_count": 112,
      "outputs": [
        {
          "output_type": "stream",
          "name": "stdout",
          "text": [
            "[20.60004667  7.85628793 23.24335397 21.31751751 29.993019   24.20767021\n",
            " 29.53600948 27.68379716 18.61115024  4.44061696]\n",
            "[27.51045193 11.51321245 38.22831885 24.26093919 41.61489153 38.03337726\n",
            " 47.41716622 30.85612682 18.76455626 11.01688182]\n",
            "[31.71529495 15.74159069 44.17862746 34.04778846 48.57710653 45.71718856\n",
            " 54.40287649 35.08594975 21.90181482 21.15602691]\n",
            "[34.38246633 15.40994181 52.12945406 37.6878988  52.09758505 51.61424162\n",
            " 62.83912511 41.4345424  23.75565095 25.52052546]\n",
            "[38.10307994 16.55515794 55.39574282 39.59670638 56.0556394  54.99254453\n",
            " 67.70253651 43.94562783 24.80852625 29.56006746]\n"
          ]
        }
      ]
    },
    {
      "cell_type": "code",
      "source": [
        "data_url='https://archive.ics.uci.edu/ml/machine-learning-databases/00246/3D_spatial_network.txt'"
      ],
      "metadata": {
        "id": "7wu40gCySB5t"
      },
      "execution_count": 113,
      "outputs": []
    },
    {
      "cell_type": "code",
      "source": [
        "data=pd.read_csv(data_url,chunksize=20000,iterator=True)"
      ],
      "metadata": {
        "id": "SXT_HMZgVsw5"
      },
      "execution_count": 114,
      "outputs": []
    },
    {
      "cell_type": "code",
      "source": [
        "from sklearn.preprocessing import StandardScaler\n",
        "ss=StandardScaler()\n",
        "from sklearn.linear_model import SGDRegressor\n",
        "sgd=SGDRegressor(random_state=10)\n",
        "total_length=0\n",
        "\n",
        "for i in pd.read_csv(data_url,chunksize=20000,iterator=True):\n",
        "  x=i.iloc[:,1:3]##column no 1,2,3 is features\n",
        "  y=i.iloc[:,3]##cplumn no 4 is label\n",
        "  total_length+=x.shape[0]\n",
        "  scaled_x=ss.fit_transform(x)##partial fit\n",
        "  sgd.partial_fit(scaled_x,y)\n"
      ],
      "metadata": {
        "id": "RgpK1ZQ3WEXY"
      },
      "execution_count": 131,
      "outputs": []
    },
    {
      "cell_type": "code",
      "source": [
        "total_length"
      ],
      "metadata": {
        "colab": {
          "base_uri": "https://localhost:8080/"
        },
        "id": "ewQa1eHjZD88",
        "outputId": "9c751b19-e8cb-4eb2-d706-4b28b9200eeb"
      },
      "execution_count": 124,
      "outputs": [
        {
          "output_type": "execute_result",
          "data": {
            "text/plain": [
              "434873"
            ]
          },
          "metadata": {},
          "execution_count": 124
        }
      ]
    },
    {
      "cell_type": "code",
      "source": [
        "from sklearn.preprocessing import StandardScaler\n",
        "ss=StandardScaler()\n",
        "from sklearn.linear_model import SGDRegressor\n",
        "sgd=SGDRegressor(random_state=10)\n",
        "iter=1\n",
        "\n",
        "for i in pd.read_csv(data_url,chunksize=20000,iterator=True):\n",
        "  x=i.iloc[:,1:3]\n",
        "  y=i.iloc[:,3]\n",
        "  total_length+=x.shape[0]\n",
        "  scaled_x=ss.fit_transform(x)\n",
        "  sgd.partial_fit(scaled_x,y)\n",
        "  if iter==7:\n",
        "    print(sgd.intercept_)\n",
        "    print(sgd.coef_)\n",
        "    break\n",
        "  iter+=1\n"
      ],
      "metadata": {
        "colab": {
          "base_uri": "https://localhost:8080/"
        },
        "id": "4dh7lNJQZKcE",
        "outputId": "13017880-58f0-46d5-c0f8-4f421ac45080"
      },
      "execution_count": 139,
      "outputs": [
        {
          "output_type": "stream",
          "name": "stdout",
          "text": [
            "[20.15784555]\n",
            "[ 4.47749538 -5.00443859]\n"
          ]
        }
      ]
    },
    {
      "cell_type": "code",
      "source": [
        "from sklearn.datasets import load_iris\n",
        "x,y=load_iris(return_X_y=True,as_frame=True)"
      ],
      "metadata": {
        "id": "4SH430SUbB3m"
      },
      "execution_count": 142,
      "outputs": []
    },
    {
      "cell_type": "code",
      "source": [
        "from sklearn.model_selection import train_test_split\n",
        "x_train,x_test,y_train,y_test=train_test_split(x,y,test_size=0.2,random_state=10)"
      ],
      "metadata": {
        "id": "nJjlQXJBbnp-"
      },
      "execution_count": 143,
      "outputs": []
    },
    {
      "cell_type": "code",
      "source": [
        "from sklearn.preprocessing import Normalizer\n",
        "nr=Normalizer()"
      ],
      "metadata": {
        "id": "N8_qL_m5cH49"
      },
      "execution_count": 144,
      "outputs": []
    },
    {
      "cell_type": "code",
      "source": [
        "x_train_normalized=nr.fit_transform(x_train)\n",
        "x_test_normalized=nr.fit_transform(x_test)"
      ],
      "metadata": {
        "id": "pJ0jRSkMbob1"
      },
      "execution_count": 146,
      "outputs": []
    },
    {
      "cell_type": "code",
      "source": [
        "from sklearn.neighbors import KNeighborsClassifier\n",
        "from sklearn.metrics import accuracy_score,f1_score"
      ],
      "metadata": {
        "id": "YI39t0kZchaX"
      },
      "execution_count": 147,
      "outputs": []
    },
    {
      "cell_type": "code",
      "source": [
        "knc_2=KNeighborsClassifier(n_neighbors=2)\n",
        "knc_3=KNeighborsClassifier(n_neighbors=3)\n",
        "knc_4=KNeighborsClassifier(n_neighbors=4)"
      ],
      "metadata": {
        "id": "ZBlzRKWBc_yt"
      },
      "execution_count": 148,
      "outputs": []
    },
    {
      "cell_type": "code",
      "source": [
        "knc_2.fit(x_train_normalized,y_train)\n",
        "y_pred_2=knc_2.predict(x_test_normalized)\n",
        "print(accuracy_score(y_test,y_pred_2))"
      ],
      "metadata": {
        "colab": {
          "base_uri": "https://localhost:8080/"
        },
        "id": "2KFU1JyOdUbL",
        "outputId": "b3dddfd5-5ee9-47f5-8717-fd11b1ff0c35"
      },
      "execution_count": 153,
      "outputs": [
        {
          "output_type": "stream",
          "name": "stdout",
          "text": [
            "0.9666666666666667\n"
          ]
        }
      ]
    },
    {
      "cell_type": "code",
      "source": [
        "knc_3.fit(x_train_normalized,y_train)\n",
        "y_pred_3=knc_2.predict(x_test_normalized)\n",
        "print(accuracy_score(y_test,y_pred_3))"
      ],
      "metadata": {
        "colab": {
          "base_uri": "https://localhost:8080/"
        },
        "id": "aGmZWGLVdiiA",
        "outputId": "be01d029-ccc4-451c-94cc-1942ebb94487"
      },
      "execution_count": 154,
      "outputs": [
        {
          "output_type": "stream",
          "name": "stdout",
          "text": [
            "0.9666666666666667\n"
          ]
        }
      ]
    },
    {
      "cell_type": "code",
      "source": [
        "knc_4.fit(x_train_normalized,y_train)\n",
        "y_pred_4=knc_2.predict(x_test_normalized)\n",
        "print(accuracy_score(y_test,y_pred_4))"
      ],
      "metadata": {
        "colab": {
          "base_uri": "https://localhost:8080/"
        },
        "id": "5Kf7Bzupd_q_",
        "outputId": "ee039154-524a-475a-d41e-22c153c7b18f"
      },
      "execution_count": 155,
      "outputs": [
        {
          "output_type": "stream",
          "name": "stdout",
          "text": [
            "0.9666666666666667\n"
          ]
        }
      ]
    },
    {
      "cell_type": "code",
      "source": [
        "f1_score(y_test,y_pred_3,average='weighted')"
      ],
      "metadata": {
        "colab": {
          "base_uri": "https://localhost:8080/"
        },
        "id": "b8aNIQ7PeDef",
        "outputId": "3be47383-ff7b-4b69-85af-971137b0ff96"
      },
      "execution_count": 157,
      "outputs": [
        {
          "output_type": "execute_result",
          "data": {
            "text/plain": [
              "0.9671111111111111"
            ]
          },
          "metadata": {},
          "execution_count": 157
        }
      ]
    },
    {
      "cell_type": "code",
      "source": [],
      "metadata": {
        "id": "AX-_I6V-esPk"
      },
      "execution_count": null,
      "outputs": []
    }
  ]
}